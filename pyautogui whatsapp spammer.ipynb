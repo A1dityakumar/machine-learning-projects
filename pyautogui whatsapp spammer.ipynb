{
 "cells": [
  {
   "cell_type": "code",
   "execution_count": 1,
   "id": "90b65aea",
   "metadata": {},
   "outputs": [
    {
     "name": "stdout",
     "output_type": "stream",
     "text": [
      "Collecting pyautogui\n",
      "  Using cached PyAutoGUI-0.9.53-py3-none-any.whl\n",
      "Collecting PyTweening>=1.0.1\n",
      "  Using cached pytweening-1.0.4-py3-none-any.whl\n",
      "Collecting mouseinfo\n",
      "  Using cached MouseInfo-0.1.3-py3-none-any.whl\n",
      "Collecting pymsgbox\n",
      "  Using cached PyMsgBox-1.0.9-py3-none-any.whl\n",
      "Collecting pygetwindow>=0.0.5\n",
      "  Using cached PyGetWindow-0.0.9-py3-none-any.whl\n",
      "Collecting pyscreeze>=0.1.21\n",
      "  Using cached PyScreeze-0.1.28-py3-none-any.whl\n",
      "Collecting pyrect\n",
      "  Using cached PyRect-0.2.0-py2.py3-none-any.whl\n",
      "Collecting pyperclip\n",
      "  Using cached pyperclip-1.8.2-py3-none-any.whl\n",
      "Installing collected packages: pyrect, pyperclip, PyTweening, pyscreeze, pymsgbox, pygetwindow, mouseinfo, pyautogui\n",
      "Successfully installed PyTweening-1.0.4 mouseinfo-0.1.3 pyautogui-0.9.53 pygetwindow-0.0.9 pymsgbox-1.0.9 pyperclip-1.8.2 pyrect-0.2.0 pyscreeze-0.1.28\n",
      "Note: you may need to restart the kernel to use updated packages.\n"
     ]
    }
   ],
   "source": [
    "pip install pyautogui"
   ]
  },
  {
   "cell_type": "code",
   "execution_count": 2,
   "id": "c7cab0db",
   "metadata": {},
   "outputs": [
    {
     "name": "stdout",
     "output_type": "stream",
     "text": [
      "Program will run after 5 seconds\n",
      "running\n"
     ]
    }
   ],
   "source": [
    "import pyautogui as pg\n",
    "import time \n",
    "print(\"Program will run after 5 seconds\") \n",
    "time.sleep(5) \n",
    "print(\"running\") \n",
    "  # Note : after running the program immediately open whatsapp web then open the persons chat you want to send messages \n",
    "for i in range(10):pg.write(\"Hello\")\n",
    "time.sleep(0.5)\n",
    "pg.press(\"Enter\")"
   ]
  },
  {
   "cell_type": "code",
   "execution_count": 3,
   "id": "b40946db",
   "metadata": {},
   "outputs": [
    {
     "name": "stdout",
     "output_type": "stream",
     "text": [
      "Program will run after 5 seconds\n",
      "running\n"
     ]
    }
   ],
   "source": [
    "import pyautogui as pg\n",
    "import time \n",
    "print(\"Program will run after 5 seconds\") \n",
    "time.sleep(5) \n",
    "print(\"running\") \n",
    "  # Note : after running the program immediately open whatsapp web then open the persons chat you want to send messages \n",
    "for i in range(10):pg.write(\"Hello\")\n",
    "time.sleep(0.5)\n",
    "pg.press(\"Enter\")"
   ]
  },
  {
   "cell_type": "code",
   "execution_count": 4,
   "id": "65740cdf",
   "metadata": {},
   "outputs": [
    {
     "name": "stdout",
     "output_type": "stream",
     "text": [
      "Program will run after 5 seconds\n",
      "running\n"
     ]
    }
   ],
   "source": [
    "import pyautogui as pg\n",
    "import time \n",
    "print(\"Program will run after 5 seconds\") \n",
    "time.sleep(5) \n",
    "print(\"running\") \n",
    "  # Note : after running the program immediately open whatsapp web then open the persons chat you want to send messages \n",
    "for i in range(100):pg.write(\"bhai\")\n",
    "time.sleep(5)\n",
    "pg.press(\"Enter\")"
   ]
  },
  {
   "cell_type": "code",
   "execution_count": 5,
   "id": "6708aad7",
   "metadata": {},
   "outputs": [
    {
     "name": "stdout",
     "output_type": "stream",
     "text": [
      "Program will run after 5 seconds\n",
      "running\n"
     ]
    }
   ],
   "source": [
    "import pyautogui as pg\n",
    "import time \n",
    "print(\"Program will run after 5 seconds\") \n",
    "time.sleep(5) \n",
    "print(\"running\") \n",
    "  # Note : after running the program immediately open whatsapp web then open the persons chat you want to send messages \n",
    "for i in range(10):\n",
    "    time.sleep(5)\n",
    "pg.write(\"Hello\")\n",
    "pg.press(\"Enter\")\n",
    "pg.write(\"hello\")"
   ]
  },
  {
   "cell_type": "code",
   "execution_count": 8,
   "id": "0edb73c8",
   "metadata": {},
   "outputs": [
    {
     "ename": "IndentationError",
     "evalue": "unexpected indent (2008604237.py, line 7)",
     "output_type": "error",
     "traceback": [
      "\u001b[1;36m  Input \u001b[1;32mIn [8]\u001b[1;36m\u001b[0m\n\u001b[1;33m    time.sleep(0.5)\u001b[0m\n\u001b[1;37m    ^\u001b[0m\n\u001b[1;31mIndentationError\u001b[0m\u001b[1;31m:\u001b[0m unexpected indent\n"
     ]
    }
   ],
   "source": [
    "import pyautogui as pg\n",
    "import time \n",
    "print(\"Program will run after 5 seconds\") \n",
    "time.sleep(5) \n",
    "print(\"running\") \n",
    "  # Note : after running the program immediately open whatsapp web then open the persons chat you want to send messages\n",
    "    time.sleep(0.5)\n",
    "for i in range(10):pg.write(\"i\")\n",
    "pg.write(\"love\")\n",
    "pg.write(\"you\")\n",
    "pg.press(\"Enter\")\n"
   ]
  },
  {
   "cell_type": "code",
   "execution_count": 9,
   "id": "009ff1e3",
   "metadata": {},
   "outputs": [
    {
     "name": "stdout",
     "output_type": "stream",
     "text": [
      "Program will run after 5 seconds\n",
      "running\n"
     ]
    }
   ],
   "source": [
    "import pyautogui as pg\n",
    "import time \n",
    "print(\"Program will run after 5 seconds\") \n",
    "time.sleep(5) \n",
    "print(\"running\") \n",
    "  # Note : after running the program immediately open whatsapp web then open the persons chat you want to send messages \n",
    "for i in range(100):pg.write(\"i\")\n",
    "time.sleep(5)\n",
    "pg.press(\"Enter\")\n",
    "for i in range(100):pg.write(\"am\")\n",
    "time.sleep(5)\n",
    "pg.press(\"Enter\")"
   ]
  },
  {
   "cell_type": "code",
   "execution_count": 10,
   "id": "383f0df4",
   "metadata": {},
   "outputs": [
    {
     "name": "stdout",
     "output_type": "stream",
     "text": [
      "Program will run after 5 seconds\n",
      "running\n"
     ]
    }
   ],
   "source": [
    "import pyautogui as pg\n",
    "import time \n",
    "print(\"Program will run after 5 seconds\") \n",
    "time.sleep(5) \n",
    "print(\"running\") \n",
    "  # Note : after running the program immediately open whatsapp web then open the persons chat you want to send messages \n",
    "for i in range(100):pg.write(\"i\")\n",
    "time.sleep(5)\n",
    "pg.press(\"Enter\")"
   ]
  },
  {
   "cell_type": "code",
   "execution_count": 11,
   "id": "3c03b74f",
   "metadata": {},
   "outputs": [
    {
     "name": "stdout",
     "output_type": "stream",
     "text": [
      "Note: you may need to restart the kernel to use updated packages.\n"
     ]
    },
    {
     "name": "stderr",
     "output_type": "stream",
     "text": [
      "ERROR: Could not find a version that satisfies the requirement webbrowser (from versions: none)\n",
      "ERROR: No matching distribution found for webbrowser\n"
     ]
    }
   ],
   "source": []
  },
  {
   "cell_type": "code",
   "execution_count": 15,
   "id": "e83b1198",
   "metadata": {},
   "outputs": [
    {
     "name": "stdout",
     "output_type": "stream",
     "text": [
      "Program will run after 5 seconds\n",
      "running\n"
     ]
    }
   ],
   "source": [
    "import pyautogui as pg\n",
    "import time \n",
    "print(\"Program will run after 5 seconds\") \n",
    "time.sleep(5) \n",
    "print(\"running\") \n",
    "  # Note : after running the program immediately open whatsapp web then open the persons chat you want to send messages \n",
    "for i in range(100):pg.write(\"i love you anvayee\")\n",
    "time.sleep(10)\n",
    "pg.press(\"Enter\")"
   ]
  },
  {
   "cell_type": "code",
   "execution_count": 1,
   "id": "f48667ea",
   "metadata": {},
   "outputs": [
    {
     "name": "stdout",
     "output_type": "stream",
     "text": [
      "Program will run after 5 seconds\n",
      "running\n"
     ]
    }
   ],
   "source": [
    "import pyautogui as pg\n",
    "import time \n",
    "print(\"Program will run after 5 seconds\") \n",
    "time.sleep(5) \n",
    "print(\"running\") \n",
    "  # Note : after running the program immediately open whatsapp web then open the persons chat you want to send messages \n",
    "for i in range(200):\n",
    "    pg.write(\"Viggy gandu\")\n",
    "    pg.press(\"Enter\")\n",
    "    \n",
    "time.sleep(5)\n",
    "pg.press(\"Enter\")"
   ]
  },
  {
   "cell_type": "code",
   "execution_count": null,
   "id": "f4a097c4",
   "metadata": {},
   "outputs": [],
   "source": []
  },
  {
   "cell_type": "code",
   "execution_count": null,
   "id": "95cf57bf",
   "metadata": {},
   "outputs": [],
   "source": []
  },
  {
   "cell_type": "code",
   "execution_count": null,
   "id": "8f18d918",
   "metadata": {},
   "outputs": [],
   "source": []
  },
  {
   "cell_type": "code",
   "execution_count": null,
   "id": "3e94fc58",
   "metadata": {},
   "outputs": [],
   "source": []
  }
 ],
 "metadata": {
  "kernelspec": {
   "display_name": "Python 3 (ipykernel)",
   "language": "python",
   "name": "python3"
  },
  "language_info": {
   "codemirror_mode": {
    "name": "ipython",
    "version": 3
   },
   "file_extension": ".py",
   "mimetype": "text/x-python",
   "name": "python",
   "nbconvert_exporter": "python",
   "pygments_lexer": "ipython3",
   "version": "3.9.12"
  }
 },
 "nbformat": 4,
 "nbformat_minor": 5
}
